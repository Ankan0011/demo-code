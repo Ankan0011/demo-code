{
 "cells": [
  {
   "cell_type": "markdown",
   "id": "8576b08d",
   "metadata": {},
   "source": [
    "# Julia on EMR\n",
    "\n",
    "First, let's install the [Elly](https://github.com/JuliaParallel/Elly.jl) package."
   ]
  },
  {
   "cell_type": "code",
   "execution_count": 1,
   "id": "a4566bc3",
   "metadata": {},
   "outputs": [],
   "source": [
    "import Pkg; Pkg.add(\"Elly\")"
   ]
  },
  {
   "cell_type": "markdown",
   "id": "2132ac0c",
   "metadata": {},
   "source": [
    "Then, let's spin up a Yarn Cluster Manager in \"unmanaged\" mode - that means our notebook has to stay running in order for the job to run to completion.\n",
    "\n",
    "In addition, we need the IP address of the local Yarn host. We'll fetch that using `readchomp()`."
   ]
  },
  {
   "cell_type": "code",
   "execution_count": 2,
   "id": "4169dc60",
   "metadata": {},
   "outputs": [
    {
     "data": {
      "text/plain": [
       "\"10.0.44.26\""
      ]
     },
     "execution_count": 2,
     "metadata": {},
     "output_type": "execute_result"
    }
   ],
   "source": [
    "yarnhost = readchomp(`hostname -i`)"
   ]
  },
  {
   "cell_type": "code",
   "execution_count": 3,
   "id": "367ead4b",
   "metadata": {},
   "outputs": [],
   "source": [
    "using Elly\n",
    "\n",
    "ENV[\"HADOOP_USER_NAME\"] = \"hadoop\"\n",
    "\n",
    "yarncm = YarnManager(\n",
    "    yarnhost=yarnhost,\n",
    "    rmport=8032,\n",
    "    schedport=8030,\n",
    "    launch_timeout=60,\n",
    "    unmanaged=true     # pass true when running in unmanaged mode\n",
    ");"
   ]
  },
  {
   "cell_type": "markdown",
   "id": "b032d9db",
   "metadata": {},
   "source": [
    "After that, we'll use the Distributed package to spin up 8 processors.\n",
    "\n",
    "For this demo, we'll just have each processor report back it's ID."
   ]
  },
  {
   "cell_type": "code",
   "execution_count": 4,
   "id": "ce24c5fb",
   "metadata": {},
   "outputs": [
    {
     "name": "stdout",
     "output_type": "stream",
     "text": [
      "10.0.44.26\n",
      "      From worker 5:\t10.0.44.26\n",
      "      From worker 3:\t10.0.44.26\n",
      "      From worker 9:\t10.0.44.26\n",
      "      From worker 8:\t10.0.44.26\n",
      "      From worker 2:\t10.0.44.26\n",
      "      From worker 7:\t10.0.44.26\n",
      "      From worker 4:\t10.0.44.26\n",
      "      From worker 6:\t10.0.44.26\n"
     ]
    }
   ],
   "source": [
    "using Distributed\n",
    "\n",
    "env = Dict(\n",
    "    \"JULIA_LOAD_PATH\"=>join([Base.LOAD_PATH..., \"/usr/local/julia/packages\"], ':'),\n",
    "    \"JULIA_DEPOT_PATH\"=>join([Base.DEPOT_PATH..., \"/usr/local/julia\"], ':')\n",
    ");\n",
    "addprocs(yarncm; np=8, env=env);\n",
    "\n",
    "@everywhere using Distributed\n",
    "@everywhere println(readchomp(`hostname -i`))"
   ]
  },
  {
   "cell_type": "markdown",
   "id": "6361970f",
   "metadata": {},
   "source": [
    "And, like a good client, we always shut down our connections. :)"
   ]
  },
  {
   "cell_type": "code",
   "execution_count": 5,
   "id": "20196a9b",
   "metadata": {},
   "outputs": [
    {
     "name": "stdout",
     "output_type": "stream",
     "text": [
      "      From worker 6:\t\n",
      "      From worker 6:\tsignal (15): Terminated\n",
      "      From worker 6:\tin expression starting at none:1\n",
      "      From worker 6:\tepoll_pwait at /lib64/libc.so.6 (unknown line)\n",
      "      From worker 6:\tuv__io_poll at /workspace/srcdir/libuv/src/unix/linux-core.c:309\n",
      "      From worker 6:\tuv_run at /workspace/srcdir/libuv/src/unix/core.c:379\n",
      "      From worker 6:\tjl_task_get_next at /buildworker/worker/package_linux64/build/src/partr.c:472\n",
      "      From worker 6:\tpoptask at ./task.jl:760\n",
      "      From worker 6:\twait at ./task.jl:768 [inlined]\n",
      "      From worker 6:\ttask_done_hook at ./task.jl:494\n",
      "      From worker 6:\t_jl_invoke at /buildworker/worker/package_linux64/build/src/gf.c:2237 [inlined]\n",
      "      From worker 6:\tjl_apply_generic at /buildworker/worker/package_linux64/build/src/gf.c:2419\n",
      "      From worker 6:\tjl_apply at /buildworker/worker/package_linux64/build/src/julia.h:1703 [inlined]\n",
      "      From worker 6:\tjl_finish_task at /buildworker/worker/package_linux64/build/src/task.c:208\n",
      "      From worker 6:\tstart_task at /buildworker/worker/package_linux64/build/src/task.c:850\n",
      "      From worker 6:\tunknown function (ip: (nil))\n",
      "      From worker 6:\tunknown function (ip: (nil))\n",
      "      From worker 6:\tAllocations: 14368652 (Pool: 14363208; Big: 5444); GC: 19\n",
      "      From worker 7:\t\n",
      "      From worker 7:\tsignal (15): Terminated\n",
      "      From worker 7:\tin expression starting at none:1\n",
      "      From worker 7:\tepoll_pwait at /lib64/libc.so.6 (unknown line)\n",
      "      From worker 7:\tuv__io_poll at /workspace/srcdir/libuv/src/unix/linux-core.c:309\n",
      "      From worker 7:\tuv_run at /workspace/srcdir/libuv/src/unix/core.c:379\n",
      "      From worker 7:\tjl_task_get_next at /buildworker/worker/package_linux64/build/src/partr.c:472\n",
      "      From worker 7:\tpoptask at ./task.jl:760\n",
      "      From worker 7:\twait at ./task.jl:768 [inlined]\n",
      "      From worker 7:\ttask_done_hook at ./task.jl:494\n",
      "      From worker 7:\t_jl_invoke at /buildworker/worker/package_linux64/build/src/gf.c:2237 [inlined]\n",
      "      From worker 7:\tjl_apply_generic at /buildworker/worker/package_linux64/build/src/gf.c:2419\n",
      "      From worker 7:\tjl_apply at /buildworker/worker/package_linux64/build/src/julia.h:1703 [inlined]\n",
      "      From worker 7:\tjl_finish_task at /buildworker/worker/package_linux64/build/src/task.c:208\n",
      "      From worker 7:\tstart_task at /buildworker/worker/package_linux64/build/src/task.c:850\n",
      "      From worker 7:\tunknown function (ip: (nil))\n",
      "      From worker 7:\tunknown function (ip: (nil))\n",
      "      From worker 7:\tAllocations: 14368685 (Pool: 14363242; Big: 5443); GC: 19\n",
      "      From worker 2:\t\n",
      "      From worker 2:\tsignal (15): Terminated\n",
      "      From worker 2:\tin expression starting at none:1\n",
      "      From worker 2:\tepoll_pwait at /lib64/libc.so.6 (unknown line)\n",
      "      From worker 2:\tuv__io_poll at /workspace/srcdir/libuv/src/unix/linux-core.c:309\n",
      "      From worker 2:\tuv_run at /workspace/srcdir/libuv/src/unix/core.c:379\n",
      "      From worker 2:\tjl_task_get_next at /buildworker/worker/package_linux64/build/src/partr.c:472\n",
      "      From worker 2:\tpoptask at ./task.jl:760\n",
      "      From worker 2:\twait at ./task.jl:768 [inlined]\n",
      "      From worker 2:\ttask_done_hook at ./task.jl:494\n",
      "      From worker 2:\t_jl_invoke at /buildworker/worker/package_linux64/build/src/gf.c:2237 [inlined]\n",
      "      From worker 2:\tjl_apply_generic at /buildworker/worker/package_linux64/build/src/gf.c:2419\n",
      "      From worker 2:\tjl_apply at /buildworker/worker/package_linux64/build/src/julia.h:1703 [inlined]\n",
      "      From worker 2:\tjl_finish_task at /buildworker/worker/package_linux64/build/src/task.c:208\n",
      "      From worker 2:\tstart_task at /buildworker/worker/package_linux64/build/src/task.c:850\n",
      "      From worker 2:\tunknown function (ip: (nil))\n",
      "      From worker 2:\tunknown function (ip: (nil))\n",
      "      From worker 2:\tAllocations: 14369362 (Pool: 14363911; Big: 5451); GC: 19\n",
      "      From worker 4:\t\n",
      "      From worker 4:\tsignal (15): Terminated\n",
      "      From worker 4:\tin expression starting at none:1\n",
      "      From worker 4:\tepoll_pwait at /lib64/libc.so.6 (unknown line)\n",
      "      From worker 4:\tuv__io_poll at /workspace/srcdir/libuv/src/unix/linux-core.c:309\n",
      "      From worker 4:\tuv_run at /workspace/srcdir/libuv/src/unix/core.c:379\n",
      "      From worker 4:\tjl_task_get_next at /buildworker/worker/package_linux64/build/src/partr.c:472\n",
      "      From worker 4:\tpoptask at ./task.jl:760\n",
      "      From worker 4:\twait at ./task.jl:768 [inlined]\n",
      "      From worker 4:\ttask_done_hook at ./task.jl:494\n",
      "      From worker 4:\t_jl_invoke at /buildworker/worker/package_linux64/build/src/gf.c:2237 [inlined]\n",
      "      From worker 4:\tjl_apply_generic at /buildworker/worker/package_linux64/build/src/gf.c:2419\n",
      "      From worker 4:\tjl_apply at /buildworker/worker/package_linux64/build/src/julia.h:1703 [inlined]\n",
      "      From worker 4:\tjl_finish_task at /buildworker/worker/package_linux64/build/src/task.c:208\n",
      "      From worker 4:\tstart_task at /buildworker/worker/package_linux64/build/src/task.c:850\n",
      "      From worker 4:\tunknown function (ip: (nil))\n",
      "      From worker 4:\tunknown function (ip: (nil))\n",
      "      From worker 4:\tAllocations: 13584974 (Pool: 13579729; Big: 5245); GC: 18\n",
      "      From worker 5:\t\n",
      "      From worker 5:\tsignal (15): Terminated\n",
      "      From worker 5:\tin expression starting at none:1\n",
      "      From worker 5:\tepoll_pwait at /lib64/libc.so.6 (unknown line)\n",
      "      From worker 5:\tuv__io_poll at /workspace/srcdir/libuv/src/unix/linux-core.c:309\n",
      "      From worker 5:\tuv_run at /workspace/srcdir/libuv/src/unix/core.c:379\n",
      "      From worker 5:\tjl_task_get_next at /buildworker/worker/package_linux64/build/src/partr.c:472\n",
      "      From worker 5:\tpoptask at ./task.jl:760\n",
      "      From worker 5:\twait at ./task.jl:768 [inlined]\n",
      "      From worker 5:\ttask_done_hook at ./task.jl:494\n",
      "      From worker 5:\t_jl_invoke at /buildworker/worker/package_linux64/build/src/gf.c:2237 [inlined]\n",
      "      From worker 5:\tjl_apply_generic at /buildworker/worker/package_linux64/build/src/gf.c:2419\n",
      "      From worker 5:\tjl_apply at /buildworker/worker/package_linux64/build/src/julia.h:1703 [inlined]\n",
      "      From worker 5:\tjl_finish_task at /buildworker/worker/package_linux64/build/src/task.c:208\n",
      "      From worker 5:\tstart_task at /buildworker/worker/package_linux64/build/src/task.c:850\n",
      "      From worker 5:\tunknown function (ip: (nil))\n",
      "      From worker 5:\tunknown function (ip: (nil))\n",
      "      From worker 5:\tAllocations: 12815570 (Pool: 12810606; Big: 4964); GC: 17\n",
      "      From worker 3:\t\n",
      "      From worker 3:\tsignal (15): Terminated\n",
      "      From worker 3:\tin expression starting at none:1\n",
      "      From worker 3:\tepoll_pwait at /lib64/libc.so.6 (unknown line)\n",
      "      From worker 3:\tuv__io_poll at /workspace/srcdir/libuv/src/unix/linux-core.c:309\n",
      "      From worker 3:\tuv_run at /workspace/srcdir/libuv/src/unix/core.c:379\n",
      "      From worker 3:\tjl_task_get_next at /buildworker/worker/package_linux64/build/src/partr.c:472\n",
      "      From worker 3:\tpoptask at ./task.jl:760\n",
      "      From worker 3:\twait at ./task.jl:768 [inlined]\n",
      "      From worker 3:\ttask_done_hook at ./task.jl:494\n",
      "      From worker 3:\t_jl_invoke at /buildworker/worker/package_linux64/build/src/gf.c:2237 [inlined]\n",
      "      From worker 3:\tjl_apply_generic at /buildworker/worker/package_linux64/build/src/gf.c:2419\n",
      "      From worker 3:\tjl_apply at /buildworker/worker/package_linux64/build/src/julia.h:1703 [inlined]\n",
      "      From worker 3:\tjl_finish_task at /buildworker/worker/package_linux64/build/src/task.c:208\n",
      "      From worker 3:\tstart_task at /buildworker/worker/package_linux64/build/src/task.c:850\n",
      "      From worker 3:\tunknown function (ip: (nil))\n",
      "      From worker 3:\tunknown function (ip: (nil))\n",
      "      From worker 3:\tAllocations: 13584969 (Pool: 13579724; Big: 5245); GC: 18\n",
      "      From worker 9:\t\n",
      "      From worker 9:\tsignal (15): Terminated\n",
      "      From worker 9:\tin expression starting at none:1\n",
      "      From worker 9:\tepoll_pwait at /lib64/libc.so.6 (unknown line)\n",
      "      From worker 9:\tuv__io_poll at /workspace/srcdir/libuv/src/unix/linux-core.c:309\n",
      "      From worker 9:\tuv_run at /workspace/srcdir/libuv/src/unix/core.c:379\n",
      "      From worker 9:\tjl_task_get_next at /buildworker/worker/package_linux64/build/src/partr.c:472\n",
      "      From worker 9:\tpoptask at ./task.jl:760\n",
      "      From worker 9:\twait at ./task.jl:768 [inlined]\n",
      "      From worker 9:\ttask_done_hook at ./task.jl:494\n",
      "      From worker 9:\t_jl_invoke at /buildworker/worker/package_linux64/build/src/gf.c:2237 [inlined]\n",
      "      From worker 9:\tjl_apply_generic at /buildworker/worker/package_linux64/build/src/gf.c:2419\n",
      "      From worker 9:\tjl_apply at /buildworker/worker/package_linux64/build/src/julia.h:1703 [inlined]\n",
      "      From worker 9:\tjl_finish_task at /buildworker/worker/package_linux64/build/src/task.c:208\n",
      "      From worker 9:\tstart_task at /buildworker/worker/package_linux64/build/src/task.c:850\n",
      "      From worker 9:\tunknown function (ip: (nil))\n",
      "      From worker 9:\tunknown function (ip: (nil))\n",
      "      From worker 9:\tAllocations: 13585059 (Pool: 13579814; Big: 5245); GC: 18\n",
      "      From worker 8:\t\n",
      "      From worker 8:\tsignal (15): Terminated\n",
      "      From worker 8:\tin expression starting at none:1\n",
      "      From worker 8:\tepoll_pwait at /lib64/libc.so.6 (unknown line)\n",
      "      From worker 8:\tuv__io_poll at /workspace/srcdir/libuv/src/unix/linux-core.c:309\n",
      "      From worker 8:\tuv_run at /workspace/srcdir/libuv/src/unix/core.c:379\n",
      "      From worker 8:\tjl_task_get_next at /buildworker/worker/package_linux64/build/src/partr.c:472\n",
      "      From worker 8:\tpoptask at ./task.jl:760\n",
      "      From worker 8:\twait at ./task.jl:768 [inlined]\n",
      "      From worker 8:\ttask_done_hook at ./task.jl:494\n",
      "      From worker 8:\t_jl_invoke at /buildworker/worker/package_linux64/build/src/gf.c:2237 [inlined]\n",
      "      From worker 8:\tjl_apply_generic at /buildworker/worker/package_linux64/build/src/gf.c:2419\n",
      "      From worker 8:\tjl_apply at /buildworker/worker/package_linux64/build/src/julia.h:1703 [inlined]\n",
      "      From worker 8:\tjl_finish_task at /buildworker/worker/package_linux64/build/src/task.c:208\n",
      "      From worker 8:\tstart_task at /buildworker/worker/package_linux64/build/src/task.c:850\n",
      "      From worker 8:\tunknown function (ip: (nil))\n",
      "      From worker 8:\tunknown function (ip: (nil))\n",
      "      From worker 8:\tAllocations: 14368664 (Pool: 14363221; Big: 5443); GC: 19\n"
     ]
    },
    {
     "name": "stderr",
     "output_type": "stream",
     "text": [
      "Worker 5 terminated.\n",
      "Worker 3 terminated.\n",
      "Worker 2 terminated.\n",
      "Worker 8 terminated.\n",
      "Worker 6 terminated.\n",
      "Worker 4 terminated.\n",
      "Worker 7 terminated.\n",
      "Worker 9 terminated.\n"
     ]
    }
   ],
   "source": [
    "Elly.disconnect(yarncm);"
   ]
  }
 ],
 "metadata": {
  "kernelspec": {
   "display_name": "Julia 1.6.1",
   "language": "julia",
   "name": "julia-1.6"
  },
  "language_info": {
   "file_extension": ".jl",
   "mimetype": "application/julia",
   "name": "julia",
   "version": "1.6.1"
  }
 },
 "nbformat": 4,
 "nbformat_minor": 5
}
