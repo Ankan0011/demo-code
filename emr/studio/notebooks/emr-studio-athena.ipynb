{
 "cells": [
  {
   "cell_type": "markdown",
   "id": "90cd3a9c",
   "metadata": {},
   "source": [
    "# Querying Athena from EMR Studio\n",
    "\n",
    "1. Install the [pyathena](https://github.com/laughingman7743/PyAthena/) library.\n",
    "\n",
    "_If this is the first time installing the library on the cluster, you'll need to restart your Kernel._"
   ]
  },
  {
   "cell_type": "code",
   "execution_count": 1,
   "id": "75c9710d",
   "metadata": {},
   "outputs": [
    {
     "name": "stdout",
     "output_type": "stream",
     "text": [
      "Defaulting to user installation because normal site-packages is not writeable\n",
      "Requirement already satisfied: pyathena in /home/emr-notebook/.local/lib/python3.7/site-packages (2.3.0)\n",
      "Requirement already satisfied: botocore>=1.5.52 in /home/emr-notebook/.local/lib/python3.7/site-packages (from pyathena) (1.21.54)\n",
      "Requirement already satisfied: boto3>=1.4.4 in /home/emr-notebook/.local/lib/python3.7/site-packages (from pyathena) (1.18.54)\n",
      "Requirement already satisfied: tenacity>=4.1.0 in /mnt/notebook-env/lib/python3.7/site-packages (from pyathena) (8.0.0)\n",
      "Requirement already satisfied: jmespath<1.0.0,>=0.7.1 in /home/emr-notebook/.local/lib/python3.7/site-packages (from boto3>=1.4.4->pyathena) (0.10.0)\n",
      "Requirement already satisfied: s3transfer<0.6.0,>=0.5.0 in /home/emr-notebook/.local/lib/python3.7/site-packages (from boto3>=1.4.4->pyathena) (0.5.0)\n",
      "Requirement already satisfied: urllib3<1.27,>=1.25.4 in /mnt/notebook-env/lib/python3.7/site-packages (from botocore>=1.5.52->pyathena) (1.26.6)\n",
      "Requirement already satisfied: python-dateutil<3.0.0,>=2.1 in /mnt/notebook-env/lib/python3.7/site-packages (from botocore>=1.5.52->pyathena) (2.8.2)\n",
      "Requirement already satisfied: six>=1.5 in /mnt/notebook-env/lib/python3.7/site-packages (from python-dateutil<3.0.0,>=2.1->botocore>=1.5.52->pyathena) (1.15.0)\n"
     ]
    }
   ],
   "source": [
    "!/emr/notebook-env/bin/pip install pyathena"
   ]
  },
  {
   "cell_type": "markdown",
   "id": "2fc5de2d",
   "metadata": {},
   "source": [
    "2. Connect to Athena and query!"
   ]
  },
  {
   "cell_type": "code",
   "execution_count": 2,
   "id": "46ac6b1c",
   "metadata": {},
   "outputs": [
    {
     "name": "stdout",
     "output_type": "stream",
     "text": [
      "('20210923175137', '20210923175137_2_2', '258241be-2f7c-4bad-99f7-f65a2a1bc032', 'americas-brazil-sao_paulo', '658db9b2-5081-49b1-b6e7-6ff1b1d92448-0_2-155-196_20210923175137.parquet', 0.7004607721204296, 0.9911546157239198, 'driver-204', 0.14602911545960373, 0.430070203188727, 89.89115113672493, 'rider-204', 1631914555102, '258241be-2f7c-4bad-99f7-f65a2a1bc032', 'americas-brazil-sao_paulo')\n",
      "('20210923175441', '20210923175441_1_1', '130b2891-b8e8-45cb-86c5-9ba17bf67e9c', 'americas-brazil-sao_paulo', '658db9b2-5081-49b1-b6e7-6ff1b1d92448-0_1-189-243_20210923175441.parquet', 0.4789745387904072, 0.14781856144057215, 'driver-022', 0.10509642405359532, 0.07682825311613706, 30.429177017810616, 'rider-022', 1632072813847, '130b2891-b8e8-45cb-86c5-9ba17bf67e9c', 'americas-brazil-sao_paulo')\n",
      "('20210923175137', '20210923175137_2_7', 'e8c22378-8cf4-480a-bbcb-2d727e72bbe9', 'americas-brazil-sao_paulo', '658db9b2-5081-49b1-b6e7-6ff1b1d92448-0_2-155-196_20210923175137.parquet', 0.011933855867048981, 0.16258177392270334, 'driver-204', 0.9635314017496284, 0.6451866124948767, 69.09535493302582, 'rider-204', 1631855582705, 'e8c22378-8cf4-480a-bbcb-2d727e72bbe9', 'americas-brazil-sao_paulo')\n",
      "('20210923175441', '20210923175441_1_3', '853e3137-1404-476a-9706-bc6862a0b0c1', 'americas-brazil-sao_paulo', '658db9b2-5081-49b1-b6e7-6ff1b1d92448-0_1-189-243_20210923175441.parquet', 0.7863419548389983, 0.09622419308555896, 'driver-022', 0.4461749593405654, 0.8047885824928995, 89.58715055088675, 'rider-022', 1632239701039, '853e3137-1404-476a-9706-bc6862a0b0c1', 'americas-brazil-sao_paulo')\n",
      "('20210923175441', '20210923175441_1_4', '8077ddc9-b591-41a7-ac05-dd418485e567', 'americas-brazil-sao_paulo', '658db9b2-5081-49b1-b6e7-6ff1b1d92448-0_1-189-243_20210923175441.parquet', 0.4557704708784922, 0.19566457205271448, 'driver-022', 0.04316839215753254, 0.49689215534636744, 98.07565038092373, 'rider-022', 1632278101830, '8077ddc9-b591-41a7-ac05-dd418485e567', 'americas-brazil-sao_paulo')\n",
      "('20210923175441', '20210923175441_1_6', 'c306ec62-fd26-447e-b071-8e928c3601cc', 'americas-brazil-sao_paulo', '658db9b2-5081-49b1-b6e7-6ff1b1d92448-0_1-189-243_20210923175441.parquet', 0.2357445292459669, 0.20216983131886535, 'driver-022', 0.7985867991529113, 0.6627849637400387, 45.92862425905784, 'rider-022', 1632070802354, 'c306ec62-fd26-447e-b071-8e928c3601cc', 'americas-brazil-sao_paulo')\n",
      "('20210923175441', '20210923175441_1_8', 'aff4ca90-b07d-4598-a643-510db2396646', 'americas-brazil-sao_paulo', '658db9b2-5081-49b1-b6e7-6ff1b1d92448-0_1-189-243_20210923175441.parquet', 0.5714612197743915, 0.8660402414940012, 'driver-022', 0.42204161309648225, 0.7826771915638148, 56.15793735580833, 'rider-022', 1632216837224, 'aff4ca90-b07d-4598-a643-510db2396646', 'americas-brazil-sao_paulo')\n",
      "('20210923175137', '20210923175137_1_1', '623fb531-d340-4093-9814-ee4e2d903446', 'asia-india-chennai', 'e587c8cb-7287-429f-9206-6bbd89e091f3-0_1-155-195_20210923175137.parquet', 0.5715455359501902, 0.8806745328835989, 'driver-204', 0.4957985534250222, 0.17496376187467866, 96.4500716154594, 'rider-204', 1632184230245, '623fb531-d340-4093-9814-ee4e2d903446', 'asia-india-chennai')\n",
      "('20210923175137', '20210923175137_1_6', '9775d219-1cfe-4534-acc0-9740f00e7516', 'asia-india-chennai', 'e587c8cb-7287-429f-9206-6bbd89e091f3-0_1-155-195_20210923175137.parquet', 0.8529563766655098, 0.18417876489592633, 'driver-204', 0.5762896261799536, 0.9686943663190588, 51.299844734112945, 'rider-204', 1632148019323, '9775d219-1cfe-4534-acc0-9740f00e7516', 'asia-india-chennai')\n",
      "('20210923175441', '20210923175441_0_2', 'e9185a6b-85ec-4cd2-8280-0c876a8a0b2d', 'americas-united_states-san_francisco', 'fd89688b-1001-4686-a31a-17eb31e1c86d-0_0-189-242_20210923175441.parquet', 0.29715343023010277, 0.32560695311233856, 'driver-022', 0.5819606196949516, 0.49547619941585996, 7.078489064840843, 'rider-022', 1632032168497, 'e9185a6b-85ec-4cd2-8280-0c876a8a0b2d', 'americas-united_states-san_francisco')\n"
     ]
    }
   ],
   "source": [
    "from pyathena import connect\n",
    "\n",
    "cursor = connect(\n",
    "    s3_staging_dir=\"s3://<BUCKET>/queries/\",\n",
    "    region_name=\"us-west-2\"\n",
    ").cursor()\n",
    "\n",
    "cursor.execute(\"SELECT * FROM hudi_trips LIMIT 10\")\n",
    "\n",
    "for row in cursor:\n",
    "    print(row)"
   ]
  },
  {
   "cell_type": "markdown",
   "id": "253f33a8",
   "metadata": {},
   "source": [
    "You can also query from different databases if you want."
   ]
  },
  {
   "cell_type": "code",
   "execution_count": 3,
   "id": "ebf0e256",
   "metadata": {},
   "outputs": [
    {
     "name": "stdout",
     "output_type": "stream",
     "text": [
      "[('dea_pain_pills_parquet',), ('dea_pain_pills_tsv',), ('dea_pain_pills_tsv_gz',)]\n"
     ]
    }
   ],
   "source": [
    "cursor.execute(\"SHOW TABLES FROM intro_data_proc\")\n",
    "print(cursor.fetchall())"
   ]
  },
  {
   "cell_type": "markdown",
   "id": "cc88eb45",
   "metadata": {},
   "source": [
    "## Using SparkSQL\n",
    "\n",
    "If your EMR Cluster is using the [Glue Data Catalog](https://docs.aws.amazon.com/emr/latest/ReleaseGuide/emr-spark-glue.html), you can also query your data on S3 with SparkSQL - just switch to the PySpark kernel and use the `%%sql` magic."
   ]
  },
  {
   "cell_type": "code",
   "execution_count": 1,
   "id": "eb4c3c9a",
   "metadata": {},
   "outputs": [
    {
     "name": "stdout",
     "output_type": "stream",
     "text": [
      "Starting Spark application\n"
     ]
    },
    {
     "data": {
      "text/html": [
       "<table>\n",
       "<tr><th>ID</th><th>YARN Application ID</th><th>Kind</th><th>State</th><th>Spark UI</th><th>Driver log</th><th>Current session?</th></tr><tr><td>6</td><td>application_1632519122277_0008</td><td>pyspark</td><td>idle</td><td><a target=\"_blank\" href=\"http://ip-10-0-156-235.us-east-2.compute.internal:20888/proxy/application_1632519122277_0008/\" class=\"emr-proxy-link\" emr-resource=\"j-205VRI1EM562R\n",
       "\" application-id=\"application_1632519122277_0008\">Link</a></td><td><a target=\"_blank\" href=\"http://ip-10-0-183-184.us-east-2.compute.internal:8042/node/containerlogs/container_1632519122277_0008_01_000001/livy\" >Link</a></td><td>✔</td></tr></table>"
      ],
      "text/plain": [
       "<IPython.core.display.HTML object>"
      ]
     },
     "metadata": {},
     "output_type": "display_data"
    },
    {
     "data": {
      "application/vnd.jupyter.widget-view+json": {
       "model_id": "",
       "version_major": 2,
       "version_minor": 0
      },
      "text/plain": [
       "FloatProgress(value=0.0, bar_style='info', description='Progress:', layout=Layout(height='25px', width='50%'),…"
      ]
     },
     "metadata": {},
     "output_type": "display_data"
    },
    {
     "name": "stdout",
     "output_type": "stream",
     "text": [
      "SparkSession available as 'spark'.\n"
     ]
    },
    {
     "data": {
      "application/vnd.jupyter.widget-view+json": {
       "model_id": "",
       "version_major": 2,
       "version_minor": 0
      },
      "text/plain": [
       "FloatProgress(value=0.0, bar_style='info', description='Progress:', layout=Layout(height='25px', width='50%'),…"
      ]
     },
     "metadata": {},
     "output_type": "display_data"
    },
    {
     "data": {
      "application/vnd.jupyter.widget-view+json": {
       "model_id": "5381587a33234d798bb3b4fcca2fd8e3",
       "version_major": 2,
       "version_minor": 0
      },
      "text/plain": [
       "VBox(children=(HBox(children=(HTML(value='Type:'), Button(description='Table', layout=Layout(width='70px'), st…"
      ]
     },
     "metadata": {},
     "output_type": "display_data"
    },
    {
     "data": {
      "application/vnd.jupyter.widget-view+json": {
       "model_id": "e053cb95ec0b496fab9a4007dd7c7001",
       "version_major": 2,
       "version_minor": 0
      },
      "text/plain": [
       "Output()"
      ]
     },
     "metadata": {},
     "output_type": "display_data"
    }
   ],
   "source": [
    "%%sql\n",
    "\n",
    "SHOW TABLES from intro_data_proc"
   ]
  }
 ],
 "metadata": {
  "kernelspec": {
   "display_name": "PySpark",
   "language": "",
   "name": "pysparkkernel"
  },
  "language_info": {
   "codemirror_mode": {
    "name": "python",
    "version": 3
   },
   "mimetype": "text/x-python",
   "name": "pyspark",
   "pygments_lexer": "python3"
  }
 },
 "nbformat": 4,
 "nbformat_minor": 5
}
